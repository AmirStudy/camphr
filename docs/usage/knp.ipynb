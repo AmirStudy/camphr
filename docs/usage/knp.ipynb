{
 "cells": [
  {
   "cell_type": "markdown",
   "metadata": {},
   "source": [
    "# KNP\n",
    "\n",
    "## Installation\n",
    "\n",
    "事前にjumanpp, knpをインストールしてください．\n",
    "\n",
    "```bash\n",
    "$ pip install https://github.com/PKSHATechnology/bedore-ner#egg=bedoner[knp]\n",
    "```"
   ]
  },
  {
   "cell_type": "markdown",
   "metadata": {},
   "source": [
    "## Usage"
   ]
  },
  {
   "cell_type": "code",
   "execution_count": 2,
   "metadata": {},
   "outputs": [],
   "source": [
    "from bedoner.models import knp\n",
    "nlp = knp()"
   ]
  },
  {
   "cell_type": "markdown",
   "metadata": {},
   "source": [
    "以下のようにすると，KNPの解析結果がdocに保存されます"
   ]
  },
  {
   "cell_type": "code",
   "execution_count": 9,
   "metadata": {},
   "outputs": [],
   "source": [
    "doc = nlp(\"太郎はリンゴとみかんを食べながら富士山へ行った。\")"
   ]
  },
  {
   "cell_type": "markdown",
   "metadata": {},
   "source": [
    "形態素オブジェクト"
   ]
  },
  {
   "cell_type": "code",
   "execution_count": 10,
   "metadata": {},
   "outputs": [
    {
     "data": {
      "text/plain": [
       "<pyknp.juman.morpheme.Morpheme at 0x13354d908>"
      ]
     },
     "execution_count": 10,
     "metadata": {},
     "output_type": "execute_result"
    }
   ],
   "source": [
    "token = doc[0]\n",
    "token._.knp_morph_element"
   ]
  },
  {
   "cell_type": "markdown",
   "metadata": {},
   "source": [
    "Blist"
   ]
  },
  {
   "cell_type": "code",
   "execution_count": 15,
   "metadata": {},
   "outputs": [
    {
     "data": {
      "text/plain": [
       "<pyknp.knp.blist.BList at 0x13354d8d0>"
      ]
     },
     "execution_count": 15,
     "metadata": {},
     "output_type": "execute_result"
    }
   ],
   "source": [
    "sent = list(doc.sents)[0]\n",
    "sent._.knp_bunsetsu_list_"
   ]
  },
  {
   "cell_type": "markdown",
   "metadata": {},
   "source": [
    "文節の Span list"
   ]
  },
  {
   "cell_type": "code",
   "execution_count": 16,
   "metadata": {},
   "outputs": [
    {
     "data": {
      "text/plain": [
       "[太郎が, リンゴと, みかんを, 食べながら, 富士山へ, 行った。]"
      ]
     },
     "execution_count": 16,
     "metadata": {},
     "output_type": "execute_result"
    }
   ],
   "source": [
    "sent._.knp_bunsetsu_spans"
   ]
  },
  {
   "cell_type": "markdown",
   "metadata": {},
   "source": [
    "基本句の Span list"
   ]
  },
  {
   "cell_type": "code",
   "execution_count": 17,
   "metadata": {},
   "outputs": [
    {
     "data": {
      "text/plain": [
       "[太郎が, リンゴと, みかんを, 食べながら, 富士, 山へ, 行った。]"
      ]
     },
     "execution_count": 17,
     "metadata": {},
     "output_type": "execute_result"
    }
   ],
   "source": [
    "sent._.knp_tag_spans"
   ]
  },
  {
   "cell_type": "markdown",
   "metadata": {},
   "source": [
    "係り受け関係"
   ]
  },
  {
   "cell_type": "code",
   "execution_count": 32,
   "metadata": {},
   "outputs": [
    {
     "name": "stdout",
     "output_type": "stream",
     "text": [
      "食べながら\n",
      "[みかんを]\n",
      "行った。\n"
     ]
    }
   ],
   "source": [
    "tag = sent._.knp_tag_spans[3]\n",
    "print(tag.text)\n",
    "print(tag._.knp_tag_children)\n",
    "print(tag._.knp_tag_parent)"
   ]
  },
  {
   "cell_type": "markdown",
   "metadata": {},
   "source": [
    "基本区のknpの解析結果"
   ]
  },
  {
   "cell_type": "code",
   "execution_count": 27,
   "metadata": {},
   "outputs": [
    {
     "data": {
      "text/plain": [
       "{'ヲ': True,\n",
       " '助詞': True,\n",
       " '体言': True,\n",
       " '係': 'ヲ格',\n",
       " '区切': '0-0',\n",
       " '格要素': True,\n",
       " '連用要素': True,\n",
       " '名詞項候補': True,\n",
       " '先行詞候補': True,\n",
       " '正規化代表表記': '未完/みかん?蜜柑/みかん',\n",
       " '解析格': 'ヲ'}"
      ]
     },
     "execution_count": 27,
     "metadata": {},
     "output_type": "execute_result"
    }
   ],
   "source": [
    "tag._.knp_tag_element.features"
   ]
  },
  {
   "cell_type": "markdown",
   "metadata": {},
   "source": [
    "NERの解析結果"
   ]
  },
  {
   "cell_type": "code",
   "execution_count": 25,
   "metadata": {},
   "outputs": [
    {
     "data": {
      "text/plain": [
       "(富士山,)"
      ]
     },
     "execution_count": 25,
     "metadata": {},
     "output_type": "execute_result"
    }
   ],
   "source": [
    "doc.ents"
   ]
  }
 ],
 "metadata": {
  "kernelspec": {
   "display_name": "ner",
   "language": "python",
   "name": "ner"
  },
  "language_info": {
   "codemirror_mode": {
    "name": "ipython",
    "version": 3
   },
   "file_extension": ".py",
   "mimetype": "text/x-python",
   "name": "python",
   "nbconvert_exporter": "python",
   "pygments_lexer": "ipython3",
   "version": "3.6.9"
  }
 },
 "nbformat": 4,
 "nbformat_minor": 4
}
