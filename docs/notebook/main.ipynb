{
 "cells": [
  {
   "cell_type": "markdown",
   "metadata": {},
   "source": [
    "# Camphr: spaCy plugin for Transformers, Udify, Elmo, KNP\n",
    "\n",
    "[PKSHA Technology](https://pkshatech.com/ja/) から，[spaCy](https://github.com/explosion/spaCy)プラグインの[Camphr](https://github.com/PKSHATechnology-Research/camphr)を公開しました. \n",
    "[Transformers](https://github.com/huggingface/transformers)や[Udify](https://github.com/Hyperparticle/udify)などの最先端の手法の他，[knp](http://nlp.ist.i.kyoto-u.ac.jp/?KNP)など伝統的な言語処理手法をspaCy上で使うことができます．\n",
    "本記事では，Camphrの特徴や，簡単な使い方を紹介していきます．"
   ]
  },
  {
   "cell_type": "code",
   "execution_count": null,
   "metadata": {},
   "outputs": [],
   "source": []
  }
 ],
 "metadata": {
  "kernelspec": {
   "display_name": "camphrdoc",
   "language": "python",
   "name": "camphrdoc"
  },
  "language_info": {
   "codemirror_mode": {
    "name": "ipython",
    "version": 3
   },
   "file_extension": ".py",
   "mimetype": "text/x-python",
   "name": "python",
   "nbconvert_exporter": "python",
   "pygments_lexer": "ipython3",
   "version": "3.7.4"
  }
 },
 "nbformat": 4,
 "nbformat_minor": 4
}
