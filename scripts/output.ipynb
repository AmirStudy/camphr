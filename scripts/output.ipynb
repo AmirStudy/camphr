{
 "cells": [
  {
   "cell_type": "code",
   "execution_count": null,
   "metadata": {
    "hide_input": true,
    "inputHidden": true
   },
   "outputs": [
    {
     "data": {
      "text/html": [
       "<span style=\"color:red; font-family:Helvetica Neue, Helvetica, Arial, sans-serif; font-size:2em;\">An Exception was encountered at 'In [11]'.</span>"
      ]
     },
     "metadata": {},
     "output_type": "display_data"
    }
   ],
   "source": [
    "%%html\n",
    "<span style=\"color:red; font-family:Helvetica Neue, Helvetica, Arial, sans-serif; font-size:2em;\">An Exception was encountered at 'In [11]'.</span>"
   ]
  },
  {
   "cell_type": "code",
   "execution_count": 1,
   "metadata": {
    "papermill": {
     "duration": 1.927955,
     "end_time": "2019-09-24T12:28:02.289421",
     "exception": false,
     "start_time": "2019-09-24T12:28:00.361466",
     "status": "completed"
    },
    "tags": []
   },
   "outputs": [],
   "source": [
    "%run  packaging.py"
   ]
  },
  {
   "cell_type": "markdown",
   "metadata": {
    "papermill": {
     "duration": 0.008269,
     "end_time": "2019-09-24T12:28:02.306998",
     "exception": false,
     "start_time": "2019-09-24T12:28:02.298729",
     "status": "completed"
    },
    "tags": []
   },
   "source": [
    "# date_ruler"
   ]
  },
  {
   "cell_type": "code",
   "execution_count": 2,
   "metadata": {
    "papermill": {
     "duration": 0.892785,
     "end_time": "2019-09-24T12:28:03.208096",
     "exception": false,
     "start_time": "2019-09-24T12:28:02.315311",
     "status": "completed"
    },
    "tags": []
   },
   "outputs": [],
   "source": [
    "import spacy\n",
    "from bedoner.lang.mecab import Japanese\n",
    "from bedoner.entity_rulers.date import DateRuler\n",
    "import shutil\n",
    "name=\"date_ruler\"\n",
    "\n",
    "nlp = Japanese(meta={\"name\": \"date_ruler\", \"requirements\": [\"mecab-python3\", \"regex\"]})\n",
    "nlp.add_pipe(DateRuler(nlp))\n",
    "text = \"2019年11月8日に高松隆と東京タワーに行った\"\n",
    "expected = nlp(text).ents"
   ]
  },
  {
   "cell_type": "code",
   "execution_count": 3,
   "metadata": {
    "papermill": {
     "duration": 0.094972,
     "end_time": "2019-09-24T12:28:03.314719",
     "exception": false,
     "start_time": "2019-09-24T12:28:03.219747",
     "status": "completed"
    },
    "tags": []
   },
   "outputs": [
    {
     "name": "stdout",
     "output_type": "stream",
     "text": [
      "\u001b[38;5;2m✔ Loaded meta.json from file\u001b[0m\n",
      "/var/folders/vc/4qw043p150b0gtkbm6rhqw9w0000gp/T/tmpw1y42svm/meta.json\n",
      "\u001b[38;5;2m✔ Successfully created package 'mecab_date_ruler-0.0.0'\u001b[0m\n",
      "/Users/yohei_tamura/work/bedoner/scripts/../pkgs/mecab_date_ruler-0.0.0\n",
      "To build the package, run `python setup.py sdist` in this directory.\n"
     ]
    }
   ],
   "source": [
    "pkgd, tmpd = create_package(nlp)\n",
    "nlp = spacy.load(tmpd.name)\n",
    "tmpd.cleanup()\n",
    "assert nlp(text).ents == expected"
   ]
  },
  {
   "cell_type": "markdown",
   "metadata": {
    "papermill": {
     "duration": 0.008257,
     "end_time": "2019-09-24T12:28:03.331705",
     "exception": false,
     "start_time": "2019-09-24T12:28:03.323448",
     "status": "completed"
    },
    "tags": []
   },
   "source": [
    "# person_ruler\n",
    "\n",
    "- mecabのユーザ辞書を含める必要がありちょっと面倒"
   ]
  },
  {
   "cell_type": "code",
   "execution_count": 4,
   "metadata": {
    "papermill": {
     "duration": 0.072051,
     "end_time": "2019-09-24T12:28:03.418101",
     "exception": false,
     "start_time": "2019-09-24T12:28:03.346050",
     "status": "completed"
    },
    "tags": []
   },
   "outputs": [],
   "source": [
    "import os \n",
    "import spacy\n",
    "from bedoner.lang.mecab import Japanese\n",
    "from bedoner.entity_rulers.person import create_person_ruler\n",
    "from pathlib import Path\n",
    "from spacy.cli import package\n",
    "from shutil import copy\n",
    "\n",
    "name=\"person_ruler\"\n",
    "user_dic = os.path.expanduser(\"~/.bedoner/user.dic\")\n",
    "nlp = Japanese(meta={\"tokenizer\": {\"userdic\": user_dic,\"assets\": \"./jinmei/\"}, \"name\":name,\"requirements\": [\"mecab-python3\", \"regex\"] })\n",
    "nlp.add_pipe(create_person_ruler(nlp))\n",
    "expected = nlp(text).ents"
   ]
  },
  {
   "cell_type": "code",
   "execution_count": 5,
   "metadata": {
    "papermill": {
     "duration": 0.135823,
     "end_time": "2019-09-24T12:28:03.563184",
     "exception": false,
     "start_time": "2019-09-24T12:28:03.427361",
     "status": "completed"
    },
    "tags": []
   },
   "outputs": [
    {
     "name": "stdout",
     "output_type": "stream",
     "text": [
      "\u001b[38;5;2m✔ Loaded meta.json from file\u001b[0m\n",
      "/var/folders/vc/4qw043p150b0gtkbm6rhqw9w0000gp/T/tmpzthlc5eo/meta.json\n",
      "\u001b[38;5;2m✔ Successfully created package 'mecab_person_ruler-0.0.0'\u001b[0m\n",
      "/Users/yohei_tamura/work/bedoner/scripts/../pkgs/mecab_person_ruler-0.0.0\n",
      "To build the package, run `python setup.py sdist` in this directory.\n"
     ]
    }
   ],
   "source": [
    "pkgd, tmpd = create_package(nlp)\n",
    "nlp=spacy.load(tmpd.name)\n",
    "tmpd.cleanup()\n",
    "assert nlp(text).ents == expected"
   ]
  },
  {
   "cell_type": "markdown",
   "metadata": {
    "papermill": {
     "duration": 0.008838,
     "end_time": "2019-09-24T12:28:03.584261",
     "exception": false,
     "start_time": "2019-09-24T12:28:03.575423",
     "status": "completed"
    },
    "tags": []
   },
   "source": [
    "# entity_ruler\n",
    "\n",
    "- 上の二つの組みわせ"
   ]
  },
  {
   "cell_type": "code",
   "execution_count": 6,
   "metadata": {
    "papermill": {
     "duration": 0.057739,
     "end_time": "2019-09-24T12:28:03.655032",
     "exception": false,
     "start_time": "2019-09-24T12:28:03.597293",
     "status": "completed"
    },
    "tags": []
   },
   "outputs": [],
   "source": [
    "import spacy\n",
    "from bedoner.entity_rulers.person import create_person_ruler\n",
    "from bedoner.entity_rulers.date import DateRuler\n",
    "\n",
    "name=\"entity_ruler\"\n",
    "nlp = Japanese(meta={\"tokenizer\": {\"userdic\": user_dic,\"assets\": \"./jinmei/\"}, \"name\":name, \"requirements\": [\"mecab-python3\", \"regex\"]})\n",
    "nlp.add_pipe(DateRuler(nlp))\n",
    "nlp.add_pipe(create_person_ruler(nlp))\n",
    "expected = nlp(text).ents"
   ]
  },
  {
   "cell_type": "code",
   "execution_count": 7,
   "metadata": {
    "papermill": {
     "duration": 0.117996,
     "end_time": "2019-09-24T12:28:03.782435",
     "exception": false,
     "start_time": "2019-09-24T12:28:03.664439",
     "status": "completed"
    },
    "tags": []
   },
   "outputs": [
    {
     "name": "stdout",
     "output_type": "stream",
     "text": [
      "\u001b[38;5;2m✔ Loaded meta.json from file\u001b[0m\n",
      "/var/folders/vc/4qw043p150b0gtkbm6rhqw9w0000gp/T/tmpwloe54g4/meta.json\n",
      "\u001b[38;5;2m✔ Successfully created package 'mecab_entity_ruler-0.0.0'\u001b[0m\n",
      "/Users/yohei_tamura/work/bedoner/scripts/../pkgs/mecab_entity_ruler-0.0.0\n",
      "To build the package, run `python setup.py sdist` in this directory.\n"
     ]
    }
   ],
   "source": [
    "pkgd,tmpd=create_package(nlp)\n",
    "nlp = spacy.load(tmpd.name) \n",
    "tmpd.cleanup()\n",
    "assert nlp(text).ents == expected"
   ]
  },
  {
   "cell_type": "markdown",
   "metadata": {
    "papermill": {
     "duration": 0.008748,
     "end_time": "2019-09-24T12:28:03.801718",
     "exception": false,
     "start_time": "2019-09-24T12:28:03.792970",
     "status": "completed"
    },
    "tags": []
   },
   "source": [
    "# knp entity extractor"
   ]
  },
  {
   "cell_type": "code",
   "execution_count": 8,
   "metadata": {
    "papermill": {
     "duration": 0.672644,
     "end_time": "2019-09-24T12:28:04.488526",
     "exception": false,
     "start_time": "2019-09-24T12:28:03.815882",
     "status": "completed"
    },
    "tags": []
   },
   "outputs": [],
   "source": [
    "import spacy\n",
    "from bedoner.lang.knp import Japanese\n",
    "from bedoner.entity_extractors.knp import KnpEntityExtractor\n",
    "\n",
    "name = \"entity_extractor\"\n",
    "nlp = Japanese(meta={\"name\": name, \"requirements\": [\"regex\", \"pyknp\"]})\n",
    "p = nlp.create_pipe(\"knp_entity_extractor\")\n",
    "nlp.add_pipe(p)\n",
    "expected = nlp(text).ents"
   ]
  },
  {
   "cell_type": "code",
   "execution_count": 9,
   "metadata": {
    "papermill": {
     "duration": 0.241059,
     "end_time": "2019-09-24T12:28:04.738406",
     "exception": false,
     "start_time": "2019-09-24T12:28:04.497347",
     "status": "completed"
    },
    "tags": []
   },
   "outputs": [
    {
     "name": "stdout",
     "output_type": "stream",
     "text": [
      "\u001b[38;5;2m✔ Loaded meta.json from file\u001b[0m\n",
      "/var/folders/vc/4qw043p150b0gtkbm6rhqw9w0000gp/T/tmp_21s7zog/meta.json\n",
      "\u001b[38;5;2m✔ Successfully created package 'knp_entity_extractor-0.0.0'\u001b[0m\n",
      "/Users/yohei_tamura/work/bedoner/scripts/../pkgs/knp_entity_extractor-0.0.0\n",
      "To build the package, run `python setup.py sdist` in this directory.\n"
     ]
    }
   ],
   "source": [
    "pkgd, tmpd=create_package(nlp)\n",
    "nlp = spacy.load(tmpd.name)\n",
    "tmpd.cleanup()\n",
    "assert nlp(text).ents == expected"
   ]
  },
  {
   "cell_type": "markdown",
   "metadata": {
    "papermill": {
     "duration": 0.00896,
     "end_time": "2019-09-24T12:28:04.756217",
     "exception": false,
     "start_time": "2019-09-24T12:28:04.747257",
     "status": "completed"
    },
    "tags": []
   },
   "source": [
    "# bert"
   ]
  },
  {
   "cell_type": "code",
   "execution_count": 10,
   "metadata": {
    "papermill": {
     "duration": 0.015764,
     "end_time": "2019-09-24T12:28:04.785708",
     "exception": false,
     "start_time": "2019-09-24T12:28:04.769944",
     "status": "completed"
    },
    "tags": []
   },
   "outputs": [],
   "source": [
    "name=\"bert_ner\""
   ]
  },
  {
   "cell_type": "code",
   "execution_count": 11,
   "metadata": {
    "papermill": {
     "duration": 0.130099,
     "end_time": "2019-09-24T12:28:04.925003",
     "exception": true,
     "start_time": "2019-09-24T12:28:04.794904",
     "status": "failed"
    },
    "tags": []
   },
   "outputs": [
    {
     "name": "stderr",
     "output_type": "stream",
     "text": [
      "ERROR:root:Internal Python error in the inspect module.\n",
      "Below is the traceback from this internal error.\n",
      "\n"
     ]
    },
    {
     "name": "stdout",
     "output_type": "stream",
     "text": [
      "Traceback (most recent call last):\n",
      "  File \"/Users/yohei_tamura/anaconda3/lib/python3.7/site-packages/IPython/core/interactiveshell.py\", line 3325, in run_code\n",
      "    exec(code_obj, self.user_global_ns, self.user_ns)\n",
      "  File \"<ipython-input-11-c4ff795fc372>\", line 1, in <module>\n",
      "    from bedoner.models import bert_ner\n",
      "ImportError: cannot import name 'bert_ner' from 'bedoner.models' (/Users/yohei_tamura/work/bedoner/bedoner/models.py)\n",
      "\n",
      "During handling of the above exception, another exception occurred:\n",
      "\n",
      "Traceback (most recent call last):\n",
      "  File \"/Users/yohei_tamura/anaconda3/lib/python3.7/site-packages/IPython/core/interactiveshell.py\", line 2039, in showtraceback\n",
      "    stb = value._render_traceback_()\n",
      "AttributeError: 'ImportError' object has no attribute '_render_traceback_'\n",
      "\n",
      "During handling of the above exception, another exception occurred:\n",
      "\n",
      "Traceback (most recent call last):\n",
      "  File \"/Users/yohei_tamura/anaconda3/lib/python3.7/site-packages/IPython/core/ultratb.py\", line 1101, in get_records\n",
      "    return _fixed_getinnerframes(etb, number_of_lines_of_context, tb_offset)\n",
      "  File \"/Users/yohei_tamura/anaconda3/lib/python3.7/site-packages/IPython/core/ultratb.py\", line 319, in wrapped\n",
      "    return f(*args, **kwargs)\n",
      "  File \"/Users/yohei_tamura/anaconda3/lib/python3.7/site-packages/IPython/core/ultratb.py\", line 353, in _fixed_getinnerframes\n",
      "    records = fix_frame_records_filenames(inspect.getinnerframes(etb, context))\n",
      "  File \"/Users/yohei_tamura/anaconda3/lib/python3.7/inspect.py\", line 1502, in getinnerframes\n",
      "    frameinfo = (tb.tb_frame,) + getframeinfo(tb, context)\n",
      "  File \"/Users/yohei_tamura/anaconda3/lib/python3.7/inspect.py\", line 1460, in getframeinfo\n",
      "    filename = getsourcefile(frame) or getfile(frame)\n",
      "  File \"/Users/yohei_tamura/anaconda3/lib/python3.7/inspect.py\", line 696, in getsourcefile\n",
      "    if getattr(getmodule(object, filename), '__loader__', None) is not None:\n",
      "  File \"/Users/yohei_tamura/anaconda3/lib/python3.7/inspect.py\", line 742, in getmodule\n",
      "    os.path.realpath(f)] = module.__name__\n",
      "AttributeError: module has no attribute '__name__'\n"
     ]
    },
    {
     "ename": "ImportError",
     "evalue": "cannot import name 'bert_ner' from 'bedoner.models' (/Users/yohei_tamura/work/bedoner/bedoner/models.py)",
     "output_type": "error",
     "traceback": [
      "\u001b[0;31m---------------------------------------------------------------------------\u001b[0m"
     ]
    }
   ],
   "source": [
    "from bedoner.models import bert_ner\n",
    "from packaging import create_package"
   ]
  },
  {
   "cell_type": "code",
   "execution_count": null,
   "metadata": {
    "papermill": {
     "duration": null,
     "end_time": null,
     "exception": null,
     "start_time": null,
     "status": "pending"
    },
    "tags": []
   },
   "outputs": [],
   "source": [
    "text=\"EXILEのATSUSHIと中島美嘉が14日ニューヨーク入り\"\n",
    "nlp=bert_ner()"
   ]
  },
  {
   "cell_type": "code",
   "execution_count": null,
   "metadata": {
    "papermill": {
     "duration": null,
     "end_time": null,
     "exception": null,
     "start_time": null,
     "status": "pending"
    },
    "tags": []
   },
   "outputs": [],
   "source": [
    "expected=nlp(text).ents\n",
    "pkgd, tmpd = create_package(nlp)"
   ]
  },
  {
   "cell_type": "code",
   "execution_count": null,
   "metadata": {
    "papermill": {
     "duration": null,
     "end_time": null,
     "exception": null,
     "start_time": null,
     "status": "pending"
    },
    "tags": []
   },
   "outputs": [],
   "source": [
    "import spacy"
   ]
  },
  {
   "cell_type": "code",
   "execution_count": null,
   "metadata": {
    "papermill": {
     "duration": null,
     "end_time": null,
     "exception": null,
     "start_time": null,
     "status": "pending"
    },
    "tags": []
   },
   "outputs": [],
   "source": [
    "nlp = spacy.load(tmpd.name)\n",
    "tmpd.cleanup()\n",
    "assert nlp(text).ents == expected"
   ]
  }
 ],
 "metadata": {
  "kernelspec": {
   "display_name": "Python 3",
   "language": "python",
   "name": "python3"
  },
  "language_info": {
   "codemirror_mode": {
    "name": "ipython",
    "version": 3
   },
   "file_extension": ".py",
   "mimetype": "text/x-python",
   "name": "python",
   "nbconvert_exporter": "python",
   "pygments_lexer": "ipython3",
   "version": "3.7.3"
  },
  "papermill": {
   "duration": 8.476438,
   "end_time": "2019-09-24T12:28:05.444506",
   "environment_variables": {},
   "exception": true,
   "input_path": "packaging.ipynb",
   "output_path": "output.ipynb",
   "parameters": {},
   "start_time": "2019-09-24T12:27:56.968068",
   "version": "1.2.0"
  }
 },
 "nbformat": 4,
 "nbformat_minor": 4
}
