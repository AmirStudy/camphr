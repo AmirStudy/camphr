{
 "cells": [
  {
   "cell_type": "markdown",
   "metadata": {},
   "source": [
    "https://drive.google.com/drive/u/0/folders/1Rmo7Z0460RC6YmrETo4vuil--0ynDAFp\n",
    "のデータからspacy用のデータをつくる"
   ]
  },
  {
   "cell_type": "code",
   "execution_count": 1,
   "metadata": {},
   "outputs": [],
   "source": [
    "from tqdm import tqdm\n",
    "import json"
   ]
  },
  {
   "cell_type": "code",
   "execution_count": 6,
   "metadata": {},
   "outputs": [],
   "source": [
    "datafile=\"../data/gsk-ene-1.1-bccwj-json-jumanpp-type/bccwj-ene-jumanpp-type.txt\"\n",
    "outfile=\"../data/bccwj-ene-jumanpp-type.jsonl\""
   ]
  },
  {
   "cell_type": "markdown",
   "metadata": {},
   "source": [
    "# jsonl"
   ]
  },
  {
   "cell_type": "code",
   "execution_count": 28,
   "metadata": {},
   "outputs": [
    {
     "name": "stderr",
     "output_type": "stream",
     "text": [
      "1202846it [00:01, 619687.76it/s]\n"
     ]
    }
   ],
   "source": [
    "with open(datafile) as f, open(outfile, \"w\") as fw:\n",
    "    cur=[]\n",
    "    for i,line in tqdm(enumerate(f)):\n",
    "        line=line.rstrip(\"\\n\")\n",
    "        if not line:\n",
    "            if cur:\n",
    "                fw.write(json.dumps(cur,ensure_ascii=False)+\"\\n\")\n",
    "                cur=[]\n",
    "            continue\n",
    "        word,case,label=line.split(\" \")\n",
    "        if not cur:\n",
    "            cur=[word, [label.upper()]]\n",
    "        else:\n",
    "            cur[0]+=word\n",
    "            cur[1].append(label.upper())"
   ]
  },
  {
   "cell_type": "markdown",
   "metadata": {},
   "source": [
    "# bio to biluo"
   ]
  },
  {
   "cell_type": "code",
   "execution_count": 7,
   "metadata": {},
   "outputs": [],
   "source": [
    "biluof=\"../data/bccwj-ene-jumanpp-type-biluo.jsonl\""
   ]
  },
  {
   "cell_type": "code",
   "execution_count": 8,
   "metadata": {},
   "outputs": [],
   "source": [
    "from bedoner.entity_extractors.utils import *"
   ]
  },
  {
   "cell_type": "code",
   "execution_count": 12,
   "metadata": {},
   "outputs": [
    {
     "name": "stderr",
     "output_type": "stream",
     "text": [
      "41705it [00:03, 13851.16it/s]\n"
     ]
    }
   ],
   "source": [
    "with open(outfile) as f, open(biluof,\"w\") as fw:\n",
    "    for line in tqdm(f):\n",
    "        d=json.loads(line)\n",
    "        dbiluo=[d[0],bio_to_biluo(d[1])]\n",
    "        fw.write(json.dumps(dbiluo, ensure_ascii=False)+\"\\n\")"
   ]
  },
  {
   "cell_type": "markdown",
   "metadata": {},
   "source": [
    "# offset tag"
   ]
  },
  {
   "cell_type": "code",
   "execution_count": 28,
   "metadata": {},
   "outputs": [
    {
     "name": "stderr",
     "output_type": "stream",
     "text": [
      "1202846it [00:01, 619687.76it/s]\n"
     ]
    }
   ],
   "source": [
    "with open(datafile) as f, open(outfile, \"w\") as fw:\n",
    "    cur=[]\n",
    "    for i,line in tqdm(enumerate(f)):\n",
    "        line=line.rstrip(\"\\n\")\n",
    "        if not line:\n",
    "            if cur:\n",
    "                fw.write(json.dumps(cur,ensure_ascii=False)+\"\\n\")\n",
    "                cur=[]\n",
    "            continue\n",
    "        word,case,label=line.split(\" \")\n",
    "        if not cur:\n",
    "            cur=[word, [label.upper()]]\n",
    "        else:\n",
    "            cur[0]+=word\n",
    "            cur[1].append(label.upper())"
   ]
  }
 ],
 "metadata": {
  "kernelspec": {
   "display_name": "bedoner",
   "language": "python",
   "name": "bedoner"
  },
  "language_info": {
   "codemirror_mode": {
    "name": "ipython",
    "version": 3
   },
   "file_extension": ".py",
   "mimetype": "text/x-python",
   "name": "python",
   "nbconvert_exporter": "python",
   "pygments_lexer": "ipython3",
   "version": "3.7.4"
  }
 },
 "nbformat": 4,
 "nbformat_minor": 4
}
