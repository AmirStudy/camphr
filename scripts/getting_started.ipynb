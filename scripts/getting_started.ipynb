{
 "cells": [
  {
   "cell_type": "markdown",
   "metadata": {},
   "source": [
    "# ルールベースNER"
   ]
  },
  {
   "cell_type": "markdown",
   "metadata": {},
   "source": [
    "## Date"
   ]
  },
  {
   "cell_type": "code",
   "execution_count": 22,
   "metadata": {},
   "outputs": [
    {
     "data": {
      "text/plain": [
       "(2019年11月8日,)"
      ]
     },
     "execution_count": 22,
     "metadata": {},
     "output_type": "execute_result"
    }
   ],
   "source": [
    "from bedoner.models import date_ruler\n",
    "\n",
    "nlp=date_ruler()\n",
    "text = \"2019年11月8日に高松隆と東京タワーに行った\"\n",
    "nlp(text).ents"
   ]
  },
  {
   "cell_type": "markdown",
   "metadata": {},
   "source": [
    "## Person"
   ]
  },
  {
   "cell_type": "code",
   "execution_count": 5,
   "metadata": {},
   "outputs": [
    {
     "data": {
      "text/plain": [
       "(高松隆,)"
      ]
     },
     "execution_count": 5,
     "metadata": {},
     "output_type": "execute_result"
    }
   ],
   "source": [
    "from bedoner.models import person_ruler\n",
    "\n",
    "nlp=person_ruler()\n",
    "text = \"2019年11月8日に高松隆と東京タワーに行った\"\n",
    "nlp(text).ents"
   ]
  },
  {
   "cell_type": "markdown",
   "metadata": {},
   "source": [
    "# KNP NER"
   ]
  },
  {
   "cell_type": "code",
   "execution_count": 1,
   "metadata": {},
   "outputs": [
    {
     "data": {
      "text/plain": [
       "(2019年11月8日, 高松隆, 東京タワー)"
      ]
     },
     "execution_count": 1,
     "metadata": {},
     "output_type": "execute_result"
    }
   ],
   "source": [
    "from bedoner.models import knp_ner\n",
    "\n",
    "nlp=knp_ner()\n",
    "text = \"2019年11月8日に高松隆と東京タワーに行った\"\n",
    "nlp(text).ents"
   ]
  },
  {
   "cell_type": "markdown",
   "metadata": {},
   "source": [
    "# BERT NER"
   ]
  },
  {
   "cell_type": "code",
   "execution_count": 36,
   "metadata": {},
   "outputs": [],
   "source": [
    "from bedoner.models import bert_ner\n",
    "from bedoner.ner_labels.labels_irex import ALL_LABELS\n",
    "from bedoner.ner_labels.utils import make_biluo_labels\n",
    "from spacy.util import minibatch"
   ]
  },
  {
   "cell_type": "code",
   "execution_count": 43,
   "metadata": {},
   "outputs": [],
   "source": [
    "nlp=bert_ner(labels=make_biluo_labels(ALL_LABELS))"
   ]
  },
  {
   "cell_type": "code",
   "execution_count": 44,
   "metadata": {},
   "outputs": [],
   "source": [
    "train_data=[[\"１９９９年３月創部の同部で初の外国人選手。\", {\"entities\": [[0, 7, \"DATE\"], [15, 20, \"ARTIFACT\"]]}]]"
   ]
  },
  {
   "cell_type": "code",
   "execution_count": 45,
   "metadata": {},
   "outputs": [],
   "source": [
    "niter=10\n",
    "optim=nlp.resume_training(t_total=niter)\n",
    "for i in range(niter):\n",
    "    for batch in minibatch(train_data):\n",
    "        texts, golds=zip(*batch)\n",
    "        nlp.update(texts, golds,optim)"
   ]
  },
  {
   "cell_type": "code",
   "execution_count": 46,
   "metadata": {},
   "outputs": [
    {
     "data": {
      "text/plain": [
       "(１９９９年３月, 外国人選手)"
      ]
     },
     "execution_count": 46,
     "metadata": {},
     "output_type": "execute_result"
    }
   ],
   "source": [
    "nlp(train_data[0][0]).ents"
   ]
  },
  {
   "cell_type": "code",
   "execution_count": 49,
   "metadata": {},
   "outputs": [],
   "source": [
    "# save\n",
    "nlp.to_disk(\"bert-foo\")"
   ]
  },
  {
   "cell_type": "code",
   "execution_count": 51,
   "metadata": {},
   "outputs": [],
   "source": [
    "# load\n",
    "nlp = spacy.load(\"./bert-foo\")"
   ]
  }
 ],
 "metadata": {
  "kernelspec": {
   "display_name": "bedoner",
   "language": "python",
   "name": "bedoner"
  },
  "language_info": {
   "codemirror_mode": {
    "name": "ipython",
    "version": 3
   },
   "file_extension": ".py",
   "mimetype": "text/x-python",
   "name": "python",
   "nbconvert_exporter": "python",
   "pygments_lexer": "ipython3",
   "version": "3.7.4"
  }
 },
 "nbformat": 4,
 "nbformat_minor": 4
}
