{
 "cells": [
  {
   "cell_type": "code",
   "execution_count": 18,
   "metadata": {},
   "outputs": [
    {
     "name": "stdout",
     "output_type": "stream",
     "text": [
      "The autoreload extension is already loaded. To reload it, use:\n",
      "  %reload_ext autoreload\n"
     ]
    }
   ],
   "source": [
    "%load_ext autoreload\n",
    "%autoreload 2"
   ]
  },
  {
   "cell_type": "code",
   "execution_count": 15,
   "metadata": {},
   "outputs": [],
   "source": [
    "from pathlib import Path \n",
    "import shutil"
   ]
  },
  {
   "cell_type": "code",
   "execution_count": 25,
   "metadata": {},
   "outputs": [],
   "source": [
    "def create_package(nlp):\n",
    "    meta=nlp.meta\n",
    "    pkgs = Path(\"../pkgs\")\n",
    "    tmpd = Path(\"/tmp\") / meta[\"name\"]\n",
    "    if tmpd.exists(): shutil.rmtree(tmpd)\n",
    "    nlp.to_disk(tmpd)\n",
    "    \n",
    "    package(tmpd, pkgs, force=True)\n",
    "    model_name  =  meta[\"lang\"] + \"_\" + meta[\"name\"]\n",
    "    pkgd = pkgs / (model_name+ \"-\" + meta[\"version\"])\n",
    "    return pkgd, tmpd"
   ]
  },
  {
   "cell_type": "markdown",
   "metadata": {},
   "source": [
    "# date_ruler"
   ]
  },
  {
   "cell_type": "code",
   "execution_count": 17,
   "metadata": {},
   "outputs": [
    {
     "name": "stdout",
     "output_type": "stream",
     "text": [
      "\u001b[38;5;2m✔ Loaded meta.json from file\u001b[0m\n",
      "/tmp/date_ruler/meta.json\n",
      "\u001b[38;5;2m✔ Successfully created package 'mecab_date_ruler-0.0.0'\u001b[0m\n",
      "../pkgs/mecab_date_ruler-0.0.0\n",
      "To build the package, run `python setup.py sdist` in this directory.\n"
     ]
    },
    {
     "data": {
      "text/plain": [
       "(2019年11月8日,)"
      ]
     },
     "execution_count": 17,
     "metadata": {},
     "output_type": "execute_result"
    }
   ],
   "source": [
    "import spacy\n",
    "from bedoner.lang.mecab import Japanese\n",
    "name=\"date_ruler\"\n",
    "nlp = Japanese(meta={\"name\": \"date_ruler\"})\n",
    "p = nlp.create_pipe(name)\n",
    "nlp.add_pipe(p)\n",
    "pkgd, tmpd = create_package(nlp)\n",
    "\n",
    "nlp = spacy.load(tmpd)\n",
    "nlp(\"2019年11月8日に高松隆と東京タワーに行った\").ents"
   ]
  },
  {
   "cell_type": "markdown",
   "metadata": {},
   "source": [
    "# person_ruler\n",
    "\n",
    "- mecabのユーザ辞書を含める必要がありちょっと面倒"
   ]
  },
  {
   "cell_type": "code",
   "execution_count": 19,
   "metadata": {},
   "outputs": [
    {
     "name": "stdout",
     "output_type": "stream",
     "text": [
      "\u001b[38;5;2m✔ Loaded meta.json from file\u001b[0m\n",
      "/tmp/person_ruler/meta.json\n",
      "\u001b[38;5;2m✔ Successfully created package 'mecab_person_ruler-0.0.0'\u001b[0m\n",
      "../pkgs/mecab_person_ruler-0.0.0\n",
      "To build the package, run `python setup.py sdist` in this directory.\n"
     ]
    },
    {
     "data": {
      "text/plain": [
       "(高松隆,)"
      ]
     },
     "execution_count": 19,
     "metadata": {},
     "output_type": "execute_result"
    }
   ],
   "source": [
    "import os \n",
    "import spacy\n",
    "from bedoner.lang.mecab import Japanese\n",
    "from bedoner.entity_rulers.person import create_person_ruler\n",
    "from pathlib import Path\n",
    "from spacy.cli import package\n",
    "from shutil import copy\n",
    "\n",
    "name=\"person_ruler\"\n",
    "user_dic = os.path.expanduser(\"~/.bedoner/user.dic\")\n",
    "nlp = Japanese(meta={\"tokenizer\": {\"userdic\": user_dic,\"assets\": \"./jinmei/\"}, \"name\":\"person_ruler\", })\n",
    "nlp.add_pipe(create_person_ruler(nlp))\n",
    "pkgd, tmpd = create_package(nlp)\n",
    "\n",
    "nlp=spacy.load(tmpd)\n",
    "nlp(\"2019年11月8日に高松隆と東京タワーに行った\").ents"
   ]
  },
  {
   "cell_type": "markdown",
   "metadata": {},
   "source": [
    "# entity_ruler\n",
    "\n",
    "- 上の二つの組みわせ"
   ]
  },
  {
   "cell_type": "code",
   "execution_count": 23,
   "metadata": {},
   "outputs": [
    {
     "name": "stdout",
     "output_type": "stream",
     "text": [
      "\u001b[38;5;2m✔ Loaded meta.json from file\u001b[0m\n",
      "/tmp/person_ruler/meta.json\n",
      "\u001b[38;5;2m✔ Successfully created package 'mecab_person_ruler-0.0.0'\u001b[0m\n",
      "../pkgs/mecab_person_ruler-0.0.0\n",
      "To build the package, run `python setup.py sdist` in this directory.\n"
     ]
    },
    {
     "data": {
      "text/plain": [
       "(2019年11月8日, 高松隆)"
      ]
     },
     "execution_count": 23,
     "metadata": {},
     "output_type": "execute_result"
    }
   ],
   "source": [
    "import spacy\n",
    "from bedoner.entity_rulers.person import create_person_ruler\n",
    "from bedoner.entity_rulers.date import DateRuler\n",
    "\n",
    "name=\"entity_ruler\"\n",
    "nlp = Japanese(meta={\"tokenizer\": {\"userdic\": user_dic,\"assets\": \"./jinmei/\"}, \"name\":\"person_ruler\", })\n",
    "nlp.add_pipe(DateRuler(nlp))\n",
    "nlp.add_pipe(create_person_ruler(nlp))\n",
    "create_package(nlp)\n",
    "\n",
    "nlp = spacy.load(tmpd) \n",
    "nlp(\"2019年11月8日に高松隆と海に行った\").ents"
   ]
  },
  {
   "cell_type": "markdown",
   "metadata": {},
   "source": [
    "# knp entity extractor"
   ]
  },
  {
   "cell_type": "code",
   "execution_count": 29,
   "metadata": {},
   "outputs": [
    {
     "name": "stdout",
     "output_type": "stream",
     "text": [
      "\u001b[38;5;2m✔ Loaded meta.json from file\u001b[0m\n",
      "/tmp/knp_entity_extractor/meta.json\n",
      "\u001b[38;5;2m✔ Successfully created package 'knp_knp_entity_extractor-0.0.0'\u001b[0m\n",
      "../pkgs/knp_knp_entity_extractor-0.0.0\n",
      "To build the package, run `python setup.py sdist` in this directory.\n"
     ]
    },
    {
     "data": {
      "text/plain": [
       "(2019年11月8日, 高松隆, 東京タワー)"
      ]
     },
     "execution_count": 29,
     "metadata": {},
     "output_type": "execute_result"
    }
   ],
   "source": [
    "import spacy\n",
    "from bedoner.lang.knp import Japanese\n",
    "from bedoner.entity_extractors.knp import KnpEntityExtractor\n",
    "\n",
    "name = \"knp_entity_extractor\"\n",
    "nlp = Japanese(meta={\"name\": name})\n",
    "p = nlp.create_pipe(\"knp_entity_extractor\")\n",
    "nlp.add_pipe(p)\n",
    "pkgd, tmpd=create_package(nlp)\n",
    "\n",
    "nlp = spacy.load(tmpd)\n",
    "nlp(\"2019年11月8日に高松隆と東京タワーに行った\").ents"
   ]
  }
 ],
 "metadata": {
  "kernelspec": {
   "display_name": "Python 3",
   "language": "python",
   "name": "python3"
  },
  "language_info": {
   "codemirror_mode": {
    "name": "ipython",
    "version": 3
   },
   "file_extension": ".py",
   "mimetype": "text/x-python",
   "name": "python",
   "nbconvert_exporter": "python",
   "pygments_lexer": "ipython3",
   "version": "3.7.3"
  }
 },
 "nbformat": 4,
 "nbformat_minor": 4
}
