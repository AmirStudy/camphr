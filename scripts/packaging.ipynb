{
 "cells": [
  {
   "cell_type": "code",
   "execution_count": 1,
   "metadata": {},
   "outputs": [],
   "source": [
    "%load_ext autoreload\n",
    "%autoreload 2"
   ]
  },
  {
   "cell_type": "code",
   "execution_count": 2,
   "metadata": {},
   "outputs": [],
   "source": [
    "from packaging import *"
   ]
  },
  {
   "cell_type": "markdown",
   "metadata": {},
   "source": [
    "# date_ruler"
   ]
  },
  {
   "cell_type": "code",
   "execution_count": 6,
   "metadata": {},
   "outputs": [
    {
     "name": "stdout",
     "output_type": "stream",
     "text": [
      "\u001b[38;5;2m✔ Loaded meta.json from file\u001b[0m\n",
      "/var/folders/vc/4qw043p150b0gtkbm6rhqw9w0000gp/T/tmpj40jmbut/meta.json\n",
      "\u001b[38;5;2m✔ Successfully created package 'mecab_date_ruler-0.0.0'\u001b[0m\n",
      "../pkgs/mecab_date_ruler-0.0.0\n",
      "To build the package, run `python setup.py sdist` in this directory.\n",
      "(2019年11月8日,)\n"
     ]
    }
   ],
   "source": [
    "import spacy\n",
    "from bedoner.lang.mecab import Japanese\n",
    "from bedoner.entity_rulers.date import DateRuler\n",
    "import shutil\n",
    "name=\"date_ruler\"\n",
    "\n",
    "nlp = Japanese(meta={\"name\": \"date_ruler\", \"requirements\": [\"mecab-python3\", \"regex\"]})\n",
    "nlp.add_pipe(DateRuler(nlp))\n",
    "pkgd, tmpd = create_package(nlp)\n",
    "\n",
    "nlp = spacy.load(tmpd.name)\n",
    "tmpd.cleanup()\n",
    "print(nlp(\"2019年11月8日に高松隆と東京タワーに行った\").ents)"
   ]
  },
  {
   "cell_type": "markdown",
   "metadata": {},
   "source": [
    "# person_ruler\n",
    "\n",
    "- mecabのユーザ辞書を含める必要がありちょっと面倒"
   ]
  },
  {
   "cell_type": "code",
   "execution_count": 16,
   "metadata": {},
   "outputs": [
    {
     "name": "stdout",
     "output_type": "stream",
     "text": [
      "\u001b[38;5;2m✔ Loaded meta.json from file\u001b[0m\n",
      "/tmp/person_ruler/meta.json\n",
      "\u001b[38;5;2m✔ Successfully created package 'mecab_person_ruler-0.0.0'\u001b[0m\n",
      "../pkgs/mecab_person_ruler-0.0.0\n",
      "To build the package, run `python setup.py sdist` in this directory.\n"
     ]
    },
    {
     "data": {
      "text/plain": [
       "(高松隆,)"
      ]
     },
     "execution_count": 16,
     "metadata": {},
     "output_type": "execute_result"
    }
   ],
   "source": [
    "import os \n",
    "import spacy\n",
    "from bedoner.lang.mecab import Japanese\n",
    "from bedoner.entity_rulers.person import create_person_ruler\n",
    "from pathlib import Path\n",
    "from spacy.cli import package\n",
    "from shutil import copy\n",
    "\n",
    "name=\"person_ruler\"\n",
    "user_dic = os.path.expanduser(\"~/.bedoner/user.dic\")\n",
    "nlp = Japanese(meta={\"tokenizer\": {\"userdic\": user_dic,\"assets\": \"./jinmei/\"}, \"name\":name,\"requirements\": [\"mecab-python3\", \"regex\"] })\n",
    "nlp.add_pipe(create_person_ruler(nlp))\n",
    "pkgd, tmpd = create_package(nlp)\n",
    "\n",
    "nlp=spacy.load(tmpd)\n",
    "nlp(\"2019年11月8日に高松隆と東京タワーに行った\").ents"
   ]
  },
  {
   "cell_type": "markdown",
   "metadata": {},
   "source": [
    "# entity_ruler\n",
    "\n",
    "- 上の二つの組みわせ"
   ]
  },
  {
   "cell_type": "code",
   "execution_count": 23,
   "metadata": {},
   "outputs": [
    {
     "data": {
      "text/plain": [
       "(2019年11月8日, 高松隆)"
      ]
     },
     "execution_count": 23,
     "metadata": {},
     "output_type": "execute_result"
    }
   ],
   "source": [
    "import spacy\n",
    "from bedoner.entity_rulers.person import create_person_ruler\n",
    "from bedoner.entity_rulers.date import DateRuler\n",
    "\n",
    "name=\"entity_ruler\"\n",
    "nlp = Japanese(meta={\"tokenizer\": {\"userdic\": user_dic,\"assets\": \"./jinmei/\"}, \"name\":name, \"requirements\": [\"mecab-python3\", \"regex\"]})\n",
    "nlp.add_pipe(DateRuler(nlp))\n",
    "nlp.add_pipe(create_person_ruler(nlp))\n",
    "nlp(\"2019年11月8日に高松隆と海に行った\").ents"
   ]
  },
  {
   "cell_type": "code",
   "execution_count": 24,
   "metadata": {},
   "outputs": [
    {
     "name": "stdout",
     "output_type": "stream",
     "text": [
      "\u001b[38;5;2m✔ Loaded meta.json from file\u001b[0m\n",
      "/tmp/entity_ruler/meta.json\n",
      "\u001b[38;5;2m✔ Successfully created package 'mecab_entity_ruler-0.0.0'\u001b[0m\n",
      "../pkgs/mecab_entity_ruler-0.0.0\n",
      "To build the package, run `python setup.py sdist` in this directory.\n"
     ]
    },
    {
     "data": {
      "text/plain": [
       "(2019年11月8日, 高松隆)"
      ]
     },
     "execution_count": 24,
     "metadata": {},
     "output_type": "execute_result"
    }
   ],
   "source": [
    "pkgd,tmpd=create_package(nlp)\n",
    "\n",
    "nlp = spacy.load(tmpd) \n",
    "nlp(\"2019年11月8日に高松隆と海に行った\").ents"
   ]
  },
  {
   "cell_type": "markdown",
   "metadata": {},
   "source": [
    "# knp entity extractor"
   ]
  },
  {
   "cell_type": "code",
   "execution_count": 14,
   "metadata": {},
   "outputs": [
    {
     "name": "stdout",
     "output_type": "stream",
     "text": [
      "\u001b[38;5;2m✔ Loaded meta.json from file\u001b[0m\n",
      "/tmp/entity_extractor/meta.json\n",
      "\u001b[38;5;2m✔ Successfully created package 'knp_entity_extractor-0.0.0'\u001b[0m\n",
      "../pkgs/knp_entity_extractor-0.0.0\n",
      "To build the package, run `python setup.py sdist` in this directory.\n"
     ]
    },
    {
     "data": {
      "text/plain": [
       "(2019年11月8日, 高松隆, 東京タワー)"
      ]
     },
     "execution_count": 14,
     "metadata": {},
     "output_type": "execute_result"
    }
   ],
   "source": [
    "import spacy\n",
    "from bedoner.lang.knp import Japanese\n",
    "from bedoner.entity_extractors.knp import KnpEntityExtractor\n",
    "\n",
    "name = \"entity_extractor\"\n",
    "nlp = Japanese(meta={\"name\": name, \"requirements\": [\"regex\", \"pyknp\"]})\n",
    "p = nlp.create_pipe(\"knp_entity_extractor\")\n",
    "nlp.add_pipe(p)\n",
    "pkgd, tmpd=create_package(nlp)\n",
    "\n",
    "nlp = spacy.load(tmpd)\n",
    "nlp(\"2019年11月8日に高松隆と東京タワーに行った\").ents"
   ]
  }
 ],
 "metadata": {
  "kernelspec": {
   "display_name": "Python 3",
   "language": "python",
   "name": "python3"
  },
  "language_info": {
   "codemirror_mode": {
    "name": "ipython",
    "version": 3
   },
   "file_extension": ".py",
   "mimetype": "text/x-python",
   "name": "python",
   "nbconvert_exporter": "python",
   "pygments_lexer": "ipython3",
   "version": "3.7.3"
  }
 },
 "nbformat": 4,
 "nbformat_minor": 4
}
