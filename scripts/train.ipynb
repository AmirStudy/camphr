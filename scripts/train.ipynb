{
 "cells": [
  {
   "cell_type": "code",
   "execution_count": 1,
   "metadata": {},
   "outputs": [],
   "source": [
    "from bedoner.models import *"
   ]
  },
  {
   "cell_type": "code",
   "execution_count": 2,
   "metadata": {},
   "outputs": [],
   "source": [
    "from bedoner.ner_labels.utils import make_biluo_labels\n",
    "from bedoner.ner_labels.labels_irex import ALL_LABELS\n",
    "from spacy.util import minibatch\n",
    "from tqdm import tqdm"
   ]
  },
  {
   "cell_type": "code",
   "execution_count": 3,
   "metadata": {},
   "outputs": [],
   "source": [
    "import json\n",
    "import random"
   ]
  },
  {
   "cell_type": "code",
   "execution_count": 4,
   "metadata": {},
   "outputs": [],
   "source": [
    "data=[]\n",
    "ndata=10000\n",
    "with open(\"../data/gsk-ene-1.1-bccwj/irex/irex.jsonl\") as f:\n",
    "    for i,line in enumerate(f):\n",
    "        if i == ndata:\n",
    "            break\n",
    "        data.append(json.loads(line))"
   ]
  },
  {
   "cell_type": "code",
   "execution_count": 6,
   "metadata": {},
   "outputs": [],
   "source": [
    "nlp=pytt_bert_ner(labels=make_biluo_labels(ALL_LABELS))"
   ]
  },
  {
   "cell_type": "code",
   "execution_count": null,
   "metadata": {},
   "outputs": [
    {
     "name": "stderr",
     "output_type": "stream",
     "text": [
      "50it [50:47, 20.58s/it] "
     ]
    }
   ],
   "source": [
    "niter=5\n",
    "optim=nlp.resume_training(t_total=niter, enable_scheduler=False)\n",
    "losses=[]\n",
    "for i in range(niter):\n",
    "    random.shuffle(data)\n",
    "    epoch_loss=0\n",
    "    for batch in tqdm(minibatch(data, size=32)):\n",
    "        texts, golds=zip(*batch)\n",
    "        docs=[nlp.make_doc(text) for text in texts]\n",
    "        nlp.update(docs, golds,optim)\n",
    "        epoch_loss+=sum(doc._.loss for doc in docs)\n",
    "    nlp.to_disk(f\"irex{i}\")\n",
    "    losses.append(epoch_loss)\n",
    "    print(epoch_loss)"
   ]
  },
  {
   "cell_type": "markdown",
   "metadata": {},
   "source": [
    "# eval"
   ]
  },
  {
   "cell_type": "code",
   "execution_count": 44,
   "metadata": {},
   "outputs": [],
   "source": [
    "data=[]\n",
    "ntestdata=100\n",
    "with open(\"../data/gsk-ene-1.1-bccwj/irex/irex.jsonl\") as f:\n",
    "    for i,line in enumerate(f):\n",
    "        if i < ndata:\n",
    "            continue\n",
    "        if i == ndata+ntestdata:\n",
    "            break\n",
    "        data.append(json.loads(line))"
   ]
  },
  {
   "cell_type": "code",
   "execution_count": 45,
   "metadata": {},
   "outputs": [],
   "source": [
    "from spacy.gold import spans_from_biluo_tags, GoldParse\n",
    "from itertools import zip_longest"
   ]
  },
  {
   "cell_type": "code",
   "execution_count": 46,
   "metadata": {},
   "outputs": [],
   "source": [
    "def is_same(ents1, ents2):\n",
    "    for e, e2 in zip_longest(ents1,ents2):\n",
    "        if e != e2:\n",
    "            return False\n",
    "    return True"
   ]
  },
  {
   "cell_type": "code",
   "execution_count": 57,
   "metadata": {},
   "outputs": [
    {
     "name": "stderr",
     "output_type": "stream",
     "text": [
      "\n",
      "  0%|          | 0/100 [00:00<?, ?it/s]\u001b[A\n",
      "  8%|▊         | 8/100 [00:00<00:01, 71.90it/s]\u001b[A\n",
      " 11%|█         | 11/100 [00:00<00:02, 35.12it/s]\u001b[A\n",
      " 18%|█▊        | 18/100 [00:00<00:02, 39.97it/s]\u001b[A\n",
      " 22%|██▏       | 22/100 [00:00<00:02, 37.15it/s]\u001b[A\n",
      " 28%|██▊       | 28/100 [00:00<00:01, 41.09it/s]\u001b[A\n",
      " 36%|███▌      | 36/100 [00:00<00:01, 47.05it/s]\u001b[A\n",
      " 41%|████      | 41/100 [00:00<00:01, 35.75it/s]\u001b[A\n",
      " 46%|████▌     | 46/100 [00:01<00:01, 33.78it/s]\u001b[A\n",
      " 53%|█████▎    | 53/100 [00:01<00:01, 36.45it/s]\u001b[A\n",
      " 57%|█████▋    | 57/100 [00:01<00:01, 35.50it/s]\u001b[A\n",
      " 61%|██████    | 61/100 [00:01<00:01, 30.85it/s]\u001b[A\n",
      " 72%|███████▏  | 72/100 [00:01<00:00, 36.38it/s]\u001b[A\n",
      " 81%|████████  | 81/100 [00:01<00:00, 43.88it/s]\u001b[A\n",
      " 88%|████████▊ | 88/100 [00:02<00:00, 43.29it/s]\u001b[A\n",
      " 94%|█████████▍| 94/100 [00:02<00:00, 36.48it/s]\u001b[A\n",
      "100%|██████████| 100/100 [00:02<00:00, 41.49it/s][A\n"
     ]
    }
   ],
   "source": [
    "count=0\n",
    "acc=0\n",
    "fails=[]\n",
    "for text, gold in tqdm(data):\n",
    "    if not len(gold[\"entities\"]):\n",
    "        continue\n",
    "    doc=nlp(text)\n",
    "    g=GoldParse(doc, **gold)\n",
    "    ents=spans_from_biluo_tags(doc,g.ner)\n",
    "    count += 1\n",
    "    if is_same(doc.ents, ents):\n",
    "        acc += 1\n",
    "    else:\n",
    "        fails.append((text,gold,doc.ents))"
   ]
  },
  {
   "cell_type": "code",
   "execution_count": 58,
   "metadata": {},
   "outputs": [
    {
     "data": {
      "text/plain": [
       "(35, 9, 0.2571428571428571)"
      ]
     },
     "execution_count": 58,
     "metadata": {},
     "output_type": "execute_result"
    }
   ],
   "source": [
    "count,acc, acc/count"
   ]
  },
  {
   "cell_type": "code",
   "execution_count": 59,
   "metadata": {},
   "outputs": [],
   "source": [
    "for e in fails[8][2]:\n",
    "    print(e.text, e.label_)"
   ]
  },
  {
   "cell_type": "code",
   "execution_count": 60,
   "metadata": {},
   "outputs": [
    {
     "name": "stdout",
     "output_type": "stream",
     "text": [
      "0 ('２交代制の-結構きつい仕事を-文句ひとつ言わずに頑張ってくれている主人に対して申し訳なさで一杯です。', {'entities': [[0, 4, 'ARTIFACT']]}, ())\n",
      "1 ('ジャパンネットバンクの「郵貯Ｗｅｂ送金」のことですよね？', {'entities': [[0, 10, 'ORGANIZATION'], [12, 19, 'ARTIFACT']]}, (郵貯Ｗｅｂ送金,))\n",
      "2 ('ＶＩＳＡとマスターカードの違いってなんですか？？？？？', {'entities': [[0, 4, 'ARTIFACT'], [5, 12, 'ARTIFACT']]}, (ＶＩＳＡ,))\n",
      "3 ('ＶＩＳＡ社とマスターカード社。', {'entities': [[0, 5, 'ORGANIZATION'], [6, 14, 'ORGANIZATION']]}, (ＶＩＳＡ,))\n",
      "4 ('ＧＷ中も情報収集を欠かさずやっているのですか？', {'entities': [[0, 3, 'DATE']]}, (ＧＷ,))\n",
      "5 ('例えば１＄＝１００円だったとして、これが１＄＝１１０円になったとします。', {'entities': [[3, 5, 'MONEY'], [6, 10, 'MONEY'], [20, 22, 'MONEY'], [23, 27, 'MONEY']]}, (１００円, １１０円))\n",
      "6 ('僕が生まれる前にあったバブル期と比べればすごく円安です。', {'entities': [[11, 15, 'DATE']]}, ())\n",
      "7 ('「ＣＨＯＫＫＡ」の平成電電関連の上場銘柄はありますか？', {'entities': [[1, 7, 'ARTIFACT'], [9, 13, 'ORGANIZATION']]}, (ＣＨＯＫＫＡ,))\n",
      "8 ('ドリテク・・・・・・・・・・・・・・・・・・・・・・・・・・・・・・。', {'entities': [[0, 4, 'ORGANIZATION']]}, ())\n",
      "9 ('日経ビジネス読まれてる方。', {'entities': [[0, 6, 'ARTIFACT']]}, (日経,))\n",
      "10 ('来年の春までは、まだまだイケイケですかね〜', {'entities': [[3, 4, 'DATE']]}, ())\n",
      "11 ('イラストレーターですが、作品のポトフォリオが欲しい、と言われたのですが、ポトフォリオの意味がわかりません。', {'entities': [[0, 8, 'ARTIFACT']]}, (イラストレーター, ポト, ポトフォリオ))\n",
      "12 ('介護保険料の事でお伺いします。主人は会社から引かれていますが、扶養の私は引かれていません。（対象者です）個人で申請するものですか？教えて下さい。', {'entities': [[0, 5, 'ARTIFACT']]}, ())\n",
      "13 ('貴方が被扶養者なら、社会保険料の控除（引かれる事）はご主人だけですから申請は要りません。', {'entities': [[10, 15, 'ARTIFACT']]}, ())\n",
      "14 ('うちは１５００万です。', {'entities': [[3, 8, 'MONEY']]}, ())\n",
      "15 ('７年前カードローンを２００万ほど作り、督促で親にバレて、親がほぼ全額肩代わりしてくれたのですがその後、今から４年ほど前に母親に「ローン組めないようにしたから」と言われました。', {'entities': [[10, 16, 'MONEY'], [54, 59, 'DATE']]}, (２００万ほど,))\n",
      "16 ('しかしこのまえ、ローンが組めませんでした。母親が手続きしたからでしょうか、それとも最初の返済、もしくは後者の返済が遅れ、ブラックに載ってしまったのでしょうか。', {'entities': [[60, 64, 'ARTIFACT']]}, ())\n",
      "17 ('注文書を書き終えて『内金いくらですか？』と聞くと『全額頂きます』と言うのです。僕は『商品が手元にないのに全額はおかしくないですか？』というと『月をまたぐので仮の売上げを上げるので…』という事でした。仮の売上げって何だろうと思いつつカード決済しようとしたら、『カードは仮売上げでは使用できません』と言われました。', {'entities': [[115, 120, 'ARTIFACT']]}, ())\n",
      "18 ('今、給与（手取り）の２０パーセントくらい貯金をしてますがこれって妥当ですか？', {'entities': [[10, 20, 'PERCENT']]}, ())\n",
      "19 ('２０パーセントくらい貯金できればとても堅実といえます。', {'entities': [[0, 10, 'PERCENT']]}, ())\n",
      "20 ('家賃は収入の４分の１以下がいいでしょう。', {'entities': [[6, 12, 'PERCENT']]}, ())\n",
      "21 ('ローンのことはわかりません。るる', {'entities': [[14, 16, 'PERSON']]}, ())\n",
      "22 ('また、３時ギリギリ（金融機関によっては２時とか２時半とか）に振込をすると翌営業日になってしまうことがあります。', {'entities': [[3, 5, 'TIME'], [19, 21, 'TIME'], [23, 26, 'TIME']]}, ())\n",
      "23 ('技術評論社のＦＸ外国為替保証金取引超入門という本がいいです。', {'entities': [[0, 5, 'ORGANIZATION'], [6, 20, 'ARTIFACT']]}, (ＦＸ外国為替保証金取引超入門,))\n",
      "24 ('欽ちゃんと横山やすしに対して、失礼だよ。しかし、人の金運用しているのに、ずうずうしいやつだね。投資家の意思は無視？それとも、ファンドの金はやはり、役人ドモの隠し金かな？', {'entities': [[0, 4, 'PERSON'], [5, 10, 'PERSON'], [47, 50, 'ARTIFACT'], [73, 77, 'ARTIFACT']]}, (欽ちゃん, 横山やすし))\n",
      "25 ('予想利益が赤字の会社の場合、会社情報などでは、予想ＰＥＲを表示していません。', {'entities': [[23, 28, 'ARTIFACT']]}, ())\n"
     ]
    }
   ],
   "source": [
    "for i,f in enumerate(fails):\n",
    "    print(i,f)"
   ]
  }
 ],
 "metadata": {
  "kernelspec": {
   "display_name": "bedoner",
   "language": "python",
   "name": "bedoner"
  },
  "language_info": {
   "codemirror_mode": {
    "name": "ipython",
    "version": 3
   },
   "file_extension": ".py",
   "mimetype": "text/x-python",
   "name": "python",
   "nbconvert_exporter": "python",
   "pygments_lexer": "ipython3",
   "version": "3.7.4"
  }
 },
 "nbformat": 4,
 "nbformat_minor": 4
}
